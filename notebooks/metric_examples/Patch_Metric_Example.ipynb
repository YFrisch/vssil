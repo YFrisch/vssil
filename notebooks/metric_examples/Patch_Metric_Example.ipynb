{
 "cells": [
  {
   "cell_type": "code",
   "execution_count": 59,
   "metadata": {},
   "outputs": [],
   "source": [
    "import torch\n",
    "import numpy as np\n",
    "import matplotlib\n",
    "import matplotlib.pyplot as plt\n",
    "\n",
    "from src.utils.kpt_utils import get_active_kpts, get_image_patches, kpts_2_img_coordinates"
   ]
  },
  {
   "cell_type": "code",
   "execution_count": 48,
   "metadata": {},
   "outputs": [
    {
     "name": "stdout",
     "output_type": "stream",
     "text": [
      "torch.Size([1, 30, 3, 128, 128])\n",
      "torch.Size([1, 30, 64, 3])\n",
      "torch.Size([1, 30, 64, 3, 12, 12])\n"
     ]
    }
   ],
   "source": [
    "sample = torch.load('/home/yannik/vssil/eval/ulosd_manipulator_128pix/ulosd_sample_9/sample.pt')\n",
    "kpts = torch.load('/home/yannik/vssil/eval/ulosd_manipulator_128pix/ulosd_sample_9/key_points.pt')\n",
    "patches = torch.load('/home/yannik/vssil/eval/ulosd_manipulator_128pix/ulosd_sample_9/patches.pt')\n",
    "N, T, C, H, W = sample.shape\n",
    "print(sample.shape)\n",
    "print(kpts.shape)\n",
    "print(patches.shape)"
   ]
  },
  {
   "cell_type": "code",
   "execution_count": 49,
   "metadata": {},
   "outputs": [
    {
     "name": "stdout",
     "output_type": "stream",
     "text": [
      "torch.Size([1, 30, 4, 3])\n"
     ]
    }
   ],
   "source": [
    "active_kpts = get_active_kpts(kpts, 0.5)\n",
    "# Adapt\n",
    "active_kpts[..., :2] *= -1 \n",
    "K, D = active_kpts.shape[-2:]\n",
    "active_img_coordinates = kpts_2_img_coordinates(active_kpts, (H, W))\n",
    "print(active_kpts.shape)"
   ]
  },
  {
   "cell_type": "code",
   "execution_count": 50,
   "metadata": {},
   "outputs": [
    {
     "name": "stdout",
     "output_type": "stream",
     "text": [
      "torch.Size([1, 30, 4, 3, 15, 15])\n"
     ]
    }
   ],
   "source": [
    "active_kpt_patches = get_image_patches(sample, active_kpts, (15, 15))\n",
    "Hp, Wp = active_kpt_patches.shape[-2:]\n",
    "print(active_kpt_patches.shape)"
   ]
  },
  {
   "cell_type": "code",
   "execution_count": 51,
   "metadata": {},
   "outputs": [],
   "source": [
    "import matplotlib.patches as pts\n",
    "\n",
    "for t in range(T):\n",
    "    fig = plt.figure()\n",
    "    ax = fig.add_subplot()\n",
    "    ax.imshow(sample[0, t].permute(1, 2, 0).cpu().numpy())\n",
    "    for k in range(K):\n",
    "        kpt_w = active_img_coordinates[0, t, k, 0]\n",
    "        kpt_h = active_img_coordinates[0, t, k, 1]\n",
    "        ax.scatter(kpt_w, kpt_h, color='lime')\n",
    "        rect = pts.Rectangle((kpt_w - int(.5*Wp), kpt_h - int(.5*Hp)), Wp, Hp,\n",
    "                             linewidth=1, linestyle='--', edgecolor='lime', facecolor='none')\n",
    "        ax.add_patch(rect)\n",
    "    ax.axis('off')\n",
    "    fig.savefig(f'/home/yannik/save_png/frame_{t}.png', bbox_inches='tight')\n",
    "    plt.close()"
   ]
  },
  {
   "cell_type": "code",
   "execution_count": 95,
   "metadata": {},
   "outputs": [
    {
     "name": "stderr",
     "output_type": "stream",
     "text": [
      "Clipping input data to the valid range for imshow with RGB data ([0..1] for floats or [0..255] for integers).\n"
     ]
    }
   ],
   "source": [
    "from kornia.filters import Sobel\n",
    "\n",
    "sobel = Sobel()\n",
    "\n",
    "for t in range(1):\n",
    "    for k in range(2, 3):\n",
    "        \n",
    "        grad = sobel(active_kpt_patches[0:1, t, k])\n",
    "        \n",
    "        red = torch.zeros_like(grad)\n",
    "        red[0, 0] += (grad[0, 0] * 5)\n",
    "        green = torch.zeros_like(grad)\n",
    "        green[0, 1] += (grad[0, 1] * 5)\n",
    "        blue = torch.zeros_like(grad)\n",
    "        blue[0, 2] += (grad[0, 2] * 5)\n",
    "        \n",
    "        plt.figure()\n",
    "        plt.imshow(active_kpt_patches[0, t, k].permute(1, 2, 0).cpu().numpy())\n",
    "        plt.axis('off')\n",
    "        # ptl.savefig('')\n",
    "        plt.close()\n",
    "        \n",
    "        cn = ['red', 'green', 'blue']\n",
    "        for i, c in enumerate([red, green, blue]):\n",
    "            fig = plt.figure()\n",
    "            plt.imshow(c[0].permute(1, 2, 0).cpu().numpy())\n",
    "            plt.axis('off')\n",
    "            #plt.show()\n",
    "            fig.savefig(f'/home/yannik/save_png/{cn[i]}.png', bbox_inches='tight')\n",
    "            plt.close()\n",
    "        "
   ]
  },
  {
   "cell_type": "code",
   "execution_count": 64,
   "metadata": {},
   "outputs": [],
   "source": [
    "font = {'family' : 'Sans',\n",
    "        'weight' : 'bold',\n",
    "        'size'   : 12}\n",
    "\n",
    "matplotlib.rc('font', **font)"
   ]
  },
  {
   "cell_type": "code",
   "execution_count": 99,
   "metadata": {},
   "outputs": [],
   "source": [
    "bins = 10\n",
    "\n",
    "for t in range(1):\n",
    "    for k in range(K):\n",
    "        fig = plt.figure()\n",
    "        ax = fig.add_subplot(projection='3d')\n",
    "        colors = ['red', 'green', 'blue']\n",
    "        for c, ch in zip(colors, range(3)):\n",
    "            hist = torch.histc(active_kpt_patches[0, t, k, ch], bins=bins)/(Hp*Wp)\n",
    "            ax.bar(np.arange(0, bins), hist, zs=ch, color=c, zdir='y')\n",
    "            ax.set_yticks([])\n",
    "            #ax.set_zticks(np.arange(0, 1.1, 0.2))\n",
    "            ax.set_zticks([])\n",
    "            #ax.set_xticks(np.arange(0, bins))\n",
    "            ax.set_xticks([])\n",
    "        #plt.show()\n",
    "        fig.savefig(f'/home/yannik/save_png/color_hist_{t}_{k}.png', bbox_inches='tight')\n",
    "        plt.close()"
   ]
  },
  {
   "cell_type": "code",
   "execution_count": null,
   "metadata": {},
   "outputs": [],
   "source": []
  }
 ],
 "metadata": {
  "kernelspec": {
   "display_name": "vssil",
   "language": "python",
   "name": "vssil"
  },
  "language_info": {
   "codemirror_mode": {
    "name": "ipython",
    "version": 3
   },
   "file_extension": ".py",
   "mimetype": "text/x-python",
   "name": "python",
   "nbconvert_exporter": "python",
   "pygments_lexer": "ipython3",
   "version": "3.8.8"
  }
 },
 "nbformat": 4,
 "nbformat_minor": 2
}
